{
 "cells": [
  {
   "cell_type": "markdown",
   "metadata": {
    "id": "0bQsWvaQPZ7a"
   },
   "source": [
    "# Load the dataset\n",
    "- Load the Tips dataset using pandas.\n"
   ]
  },
  {
   "cell_type": "code",
   "execution_count": null,
   "metadata": {},
   "outputs": [],
   "source": [
    "import pandas as pd\n",
    "df=pd.read_csv(\"Dataset\")\n",
    "df"
   ]
  },
  {
   "cell_type": "markdown",
   "metadata": {
    "id": "0bQsWvaQPZ7a"
   },
   "source": [
    "# Load the dataset\n",
    "- Load the Tips dataset using pandas.\n"
   ]
  },
  {
   "cell_type": "code",
   "execution_count": null,
   "metadata": {},
   "outputs": [],
   "source": [
    "import pandas as pd\n",
    "df=pd.read_csv(\"Dataset\")\n",
    "df"
   ]
  },
  {
   "cell_type": "markdown",
   "metadata": {
    "id": "gK8RCzLuPoK0"
   },
   "source": [
    "# Basic data exploration\n",
    "- Display the first 5 rows of the dataset.\n",
    "- Display the summary statistics of the dataset.\n",
    "- Check for missing values in the dataset."
   ]
  },
  {
   "cell_type": "code",
   "execution_count": null,
   "metadata": {},
   "outputs": [],
   "source": [
    "df.head(5)\n",
    "df.info()\n",
    "df.dtypes\n",
    "df.isnull().sum()"
   ]
  },
  {
   "cell_type": "markdown",
   "metadata": {
    "id": "dYidq4wwP28W"
   },
   "source": [
    "# Data selection\n",
    "- Select the columns 'total_bill', 'tip', and 'sex'.\n",
    "- Select the rows where the 'total_bill' is greater than $20.\n",
    "- Select the rows where the day is 'Sun' and the 'time' is 'Dinner'.\n"
   ]
  },
  {
   "cell_type": "code",
   "execution_count": null,
   "metadata": {},
   "outputs": [],
   "source": [
    "1- selected_columns = df[['total_bill', 'tip', 'sex']]\n",
    "2- selected_rows = df[df['total_bill'] > 20]\n",
    "print(selected_rows)\n",
    "3-selected_rows = df[(df['day'] == 'Sun') & (df['time'] == 'Dinner')]\n",
    "print(selected_rows)"
   ]
  },
  {
   "cell_type": "markdown",
   "metadata": {
    "id": "tWlLGjNDQHGL"
   },
   "source": [
    "# Grouping and aggregation:\n",
    "\n",
    "- Calculate the average total bill for each day.\n",
    "- Calculate the sum of tips for each day.\n",
    "- Find the maximum total bill for each combination of day and time."
   ]
  },
  {
   "cell_type": "code",
   "execution_count": null,
   "metadata": {},
   "outputs": [],
   "source": [
    "#1 result=df.groupby(\"day\")[\"totalbill\"].mean()\n",
    "#2 result=df.groupby(\"day\")[\"tips\"].sum()\n",
    "#3 result=df.groupby([\"day\",\"time\"])[\"total_bill\"].max()"
   ]
  },
  {
   "cell_type": "markdown",
   "metadata": {
    "id": "eZ0C5HBMQVKR"
   },
   "source": [
    "# Data transformation:\n",
    "\n",
    "- Add a new column 'tip_percentage' which is the tip divided by the total bill multiplied by 100.\n",
    "- Create a new column 'bill_per_person' which is the total bill divided by the number of people ('size')."
   ]
  },
  {
   "cell_type": "code",
   "execution_count": null,
   "metadata": {},
   "outputs": [],
   "source": [
    "#1 df[\"tip_percentage\"]=df._append(df[\"tip\"] / df[\"total_bill\"])*100\n",
    "#2 df[\"bill_per_person\"]=df._append(df[\"total_bill\"] / [\"size\"])"
   ]
  },
  {
   "cell_type": "markdown",
   "metadata": {
    "id": "7KfLEXUiQjLK"
   },
   "source": [
    "# Filtering:\n",
    "\n",
    "- Filter the rows where 'tip_percentage' is greater than 15%.\n",
    "- Filter the rows where 'total_bill' is in the top 10 highest bills."
   ]
  },
  {
   "cell_type": "code",
   "execution_count": null,
   "metadata": {},
   "outputs": [],
   "source": [
    "#1 filtered_df = df[df['tip_percentage'] > 15]\n",
    "#print(filtered_df)\n",
    "#2top_10_bills = df.nlargest(10, 'total_bill')\n",
    "#print(top_10_bills)"
   ]
  },
  {
   "cell_type": "markdown",
   "metadata": {
    "id": "CNCIQquLQ0xe"
   },
   "source": [
    "# Sorting:\n",
    "\n",
    "- Sort the dataset by 'total_bill' in descending order."
   ]
  },
  {
   "cell_type": "code",
   "execution_count": null,
   "metadata": {},
   "outputs": [],
   "source": [
    "# df[\"total_bill\"]=df.sort_values(by\"total_bill\"(descending=False))"
   ]
  },
  {
   "cell_type": "markdown",
   "metadata": {
    "id": "-LZj6q2ZRKuv"
   },
   "source": [
    "# Handling missing data:\n",
    "\n",
    "- Replace any missing values in the 'tip' column with the mean of the 'tip' column.\n",
    "- Drop any rows where the 'size' is missing."
   ]
  },
  {
   "cell_type": "code",
   "execution_count": null,
   "metadata": {},
   "outputs": [],
   "source": [
    "#1 result=df[\"tip\"].mean()\n",
    "# df[\"tip\"]=df[\"tip\"].fillna(result) \n",
    "\n",
    "#2 df.drop(index=\"size\",inplace=True)"
   ]
  }
 ],
 "metadata": {
  "colab": {
   "private_outputs": true,
   "provenance": []
  },
  "kernelspec": {
   "display_name": "Python 3 (ipykernel)",
   "language": "python",
   "name": "python3"
  },
  "language_info": {
   "codemirror_mode": {
    "name": "ipython",
    "version": 3
   },
   "file_extension": ".py",
   "mimetype": "text/x-python",
   "name": "python",
   "nbconvert_exporter": "python",
   "pygments_lexer": "ipython3",
   "version": "3.11.7"
  }
 },
 "nbformat": 4,
 "nbformat_minor": 4
}
